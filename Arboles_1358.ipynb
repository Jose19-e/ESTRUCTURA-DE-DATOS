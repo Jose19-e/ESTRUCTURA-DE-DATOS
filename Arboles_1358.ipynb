{
  "nbformat": 4,
  "nbformat_minor": 0,
  "metadata": {
    "colab": {
      "name": "Arboles_1358.ipynb",
      "provenance": [],
      "authorship_tag": "ABX9TyPhVeJZHE9KTIARb5H4L+zJ",
      "include_colab_link": true
    },
    "kernelspec": {
      "name": "python3",
      "display_name": "Python 3"
    },
    "language_info": {
      "name": "python"
    }
  },
  "cells": [
    {
      "cell_type": "markdown",
      "metadata": {
        "id": "view-in-github",
        "colab_type": "text"
      },
      "source": [
        "<a href=\"https://colab.research.google.com/github/Jose19-e/ESTRUCTURA-DE-DATOS/blob/master/Arboles_1358.ipynb\" target=\"_parent\"><img src=\"https://colab.research.google.com/assets/colab-badge.svg\" alt=\"Open In Colab\"/></a>"
      ]
    },
    {
      "cell_type": "code",
      "metadata": {
        "id": "fpMv7dmgttPl"
      },
      "source": [
        "class BinaryNode:\n",
        "  def __init__(self , value , left = None , rigth = None):\n",
        "    self.data = value\n",
        "    self.left = left\n",
        "    self.rigth = rigth\n",
        "\n",
        "class TernaryNode:\n",
        "  def __init__(self , value , left = None , center = None , rigth = None):\n",
        "    self.data = value\n",
        "    self.left = left\n",
        "    self.center = center\n",
        "    self.rigth = rigth\n",
        "    \n",
        "\n",
        "\n"
      ],
      "execution_count": 1,
      "outputs": []
    },
    {
      "cell_type": "code",
      "metadata": {
        "colab": {
          "base_uri": "https://localhost:8080/"
        },
        "id": "FPtZ66savGQF",
        "outputId": "d5f2cf30-e832-41eb-93a7-d407e1f6da00"
      },
      "source": [
        "root = BinaryNode(\"R\", BinaryNode(\"C\"),BinaryNode(\"H\"))\n",
        "print(root.left.data)\n",
        "\n",
        "root = TernaryNode(4,TernaryNode(3,TernaryNode(5,left=TernaryNode(2)),\\\n",
        "                   TernaryNode(5),TernaryNode(2)),None,TernaryNode(5))\n",
        "print(root.left.left.left.data)\n",
        "print(\".-.-.-.-.-.-.-.-.-.-.-.-.-.-.-.-.-.\")\n",
        "aux = root\n",
        "while aux.left != None:\n",
        "  aux= aux.left\n",
        "print(aux.data)\n",
        "print(\".-.-.-.-.-.-.-.-.-.-.-.-.-.-.-.-.-.-.-.\")\n",
        "print(root.left.rigth.data)"
      ],
      "execution_count": 6,
      "outputs": [
        {
          "output_type": "stream",
          "name": "stdout",
          "text": [
            "C\n",
            "2\n",
            ".-.-.-.-.-.-.-.-.-.-.-.-.-.-.-.-.-.\n",
            "2\n",
            ".-.-.-.-.-.-.-.-.-.-.-.-.-.-.-.-.-.-.-.\n",
            "2\n"
          ]
        }
      ]
    }
  ]
}