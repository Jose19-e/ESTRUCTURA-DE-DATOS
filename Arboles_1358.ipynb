{
  "nbformat": 4,
  "nbformat_minor": 0,
  "metadata": {
    "colab": {
      "name": "Arboles_1358.ipynb",
      "provenance": [],
      "authorship_tag": "ABX9TyOI6TALgeQeKcMqsK4ZbgtZ",
      "include_colab_link": true
    },
    "kernelspec": {
      "name": "python3",
      "display_name": "Python 3"
    },
    "language_info": {
      "name": "python"
    }
  },
  "cells": [
    {
      "cell_type": "markdown",
      "metadata": {
        "id": "view-in-github",
        "colab_type": "text"
      },
      "source": [
        "<a href=\"https://colab.research.google.com/github/Jose19-e/ESTRUCTURA-DE-DATOS/blob/master/Arboles_1358.ipynb\" target=\"_parent\"><img src=\"https://colab.research.google.com/assets/colab-badge.svg\" alt=\"Open In Colab\"/></a>"
      ]
    },
    {
      "cell_type": "code",
      "metadata": {
        "id": "fpMv7dmgttPl"
      },
      "source": [
        "class BinaryNode:\n",
        "  def __init__(self , value , left = None , rigth = None):\n",
        "    self.data = value\n",
        "    self.left = left\n",
        "    self.rigth = rigth\n",
        "\n",
        "class TernaryNode:\n",
        "  def __init__(self , value , left = None , center = None , rigth = None):\n",
        "    self.data = value\n",
        "    self.left = left\n",
        "    self.center = center\n",
        "    self.rigth = rigth\n",
        "    \n",
        "\n",
        "\n"
      ],
      "execution_count": 145,
      "outputs": []
    },
    {
      "cell_type": "code",
      "metadata": {
        "colab": {
          "base_uri": "https://localhost:8080/"
        },
        "id": "FPtZ66savGQF",
        "outputId": "9c30023d-b533-403a-d253-c22f59e9563e"
      },
      "source": [
        "root = BinaryNode(\"R\", BinaryNode(\"C\"),BinaryNode(\"H\"))\n",
        "print(root.left.data)\n",
        "\n",
        "root = TernaryNode(4,TernaryNode(3,TernaryNode(5,left=TernaryNode(2)),\\\n",
        "                   TernaryNode(5),TernaryNode(2)),None,TernaryNode(5))\n",
        "print(root.left.left.left.data)\n",
        "print(\".-.-.-.-.-.-.-.-.-.-.-.-.-.-.-.-.-.\")\n",
        "aux = root\n",
        "while aux.left != None:\n",
        "  aux= aux.left\n",
        "print(aux.data)\n",
        "print(\".-.-.-.-.-.-.-.-.-.-.-.-.-.-.-.-.-.-.-.\")\n",
        "print(root.left.rigth.data)"
      ],
      "execution_count": 146,
      "outputs": [
        {
          "output_type": "stream",
          "name": "stdout",
          "text": [
            "C\n",
            "2\n",
            ".-.-.-.-.-.-.-.-.-.-.-.-.-.-.-.-.-.\n",
            "2\n",
            ".-.-.-.-.-.-.-.-.-.-.-.-.-.-.-.-.-.-.-.\n",
            "2\n"
          ]
        }
      ]
    },
    {
      "cell_type": "code",
      "metadata": {
        "id": "EEAU-t2_Y_h2"
      },
      "source": [
        "class BinarySearchTree:\n",
        "  def __init__(self):\n",
        "    self.root = None\n",
        "\n",
        "  def insert( self, value ):\n",
        "    if self.root == None:\n",
        "      self.root = BinaryNode(value)\n",
        "    else:\n",
        "      self.__insert_nodo(self.root , value)  \n",
        "\n",
        "  def __insert_nodo( self , nodo , value ):\n",
        "    if nodo.data == value:\n",
        "      pass\n",
        "    elif value < nodo.data:\n",
        "      if nodo.left == None:\n",
        "        nodo.left = BinaryNode(value)  \n",
        "      else:\n",
        "        self.__insert_nodo(nodo.left,value)  \n",
        "    else:\n",
        "      if nodo.rigth == None:\n",
        "        nodo.rigth = BinaryNode(value)    \n",
        "      else:\n",
        "        self.__insert_nodo( nodo.rigth , value )  \n",
        "\n",
        "  def transversal(self, formato):\n",
        "    if formato == \"posorden\":\n",
        "      self.recorrido_pos(self.root)\n",
        "    elif formato == \"preorden\":\n",
        "      self.recorrido_pre(self.root)\n",
        "    else:  #inorden\n",
        "      self.recorrido_in(self.root)    \n",
        "    print(\"\")   \n",
        "\n",
        "  def recorrido_pos( self , nodo ):\n",
        "    if nodo != None:\n",
        "      self.recorrido_pos(nodo.left)\n",
        "      self.recorrido_pos(nodo.rigth)\n",
        "      print( str(nodo.data), end= ' , ' )\n",
        "\n",
        "  def recorrido_pre( self , nodo ):\n",
        "    if nodo != None:\n",
        "      print( str(nodo.data), end= ' , ' ) \n",
        "      self.recorrido_pre(nodo.left)\n",
        "      self.recorrido_pre(nodo.rigth)   \n",
        "\n",
        "  def recorrido_in( self , nodo ):\n",
        "    if nodo != None:\n",
        "      self.recorrido_in(nodo.left)\n",
        "      print( str(nodo.data), end= ' , ' )\n",
        "      self.recorrido_in(nodo.rigth)\n",
        "\n",
        "  def search( self , value ):\n",
        "    if self.root == None:\n",
        "      print(\"El árbol esta vacio\")\n",
        "      return None\n",
        "    else:\n",
        "      return self.__search( self.root , value )      \n",
        "\n",
        "  def __search( self , nodo , value ):\n",
        "    if nodo == None:\n",
        "      print(\"El dato no existe en el árbol\")    \n",
        "      return None\n",
        "    elif nodo.data == value:\n",
        "      print(\"Encontrado\", nodo.data)  \n",
        "      return nodo\n",
        "    elif value < nodo.data:\n",
        "      return self.__search( nodo.left , value )  \n",
        "    else:\n",
        "      return self.__search( nodo.rigth , value )  \n",
        "\n",
        "      #REALMENTE LO INTENTE PERO NO PUDE LOGRARLO ESTO FUE LO QUE HICE\n",
        "\n",
        "  def remove( self , value ):\n",
        "    if self.root == None:\n",
        "      print(\"No existen valores en el árbol\") \n",
        "      return None\n",
        "    else:\n",
        "      hallado = self.search_remove( self.root , value )\n",
        "      if hallado.left == None and hallado.rigth == None: # \" NODO  HOJA\"\n",
        "        hallado.data = None\n",
        "      if hallado.left == None or hallado.rigth == None: # \" UN SOLO HIJO \"\n",
        "        if hallado.left != None:\n",
        "          guardado = int(hallado.left.data)\n",
        "          hallado.left = None\n",
        "          hallado.left = BinaryNode(guardado)\n",
        "        if hallado.rigth != None:\n",
        "          guardado = int(hallado.rigth.data)\n",
        "          hallado.rigth.data = None\n",
        "          hallado.rigth = BinaryNode(guardado) \n",
        "          \n",
        "\n",
        "\n",
        "\n",
        "  def search_remove( self , nodo , value):\n",
        "    if nodo == None:    \n",
        "      return None\n",
        "    elif nodo.data == value:\n",
        "      return nodo\n",
        "    elif value < nodo.data:\n",
        "      return self.search_remove( nodo.left , value )  \n",
        "    else:\n",
        "      return self.search_remove( nodo.rigth , value )      \n",
        "\n",
        "      \n",
        "\n",
        "      \n"
      ],
      "execution_count": 163,
      "outputs": []
    },
    {
      "cell_type": "code",
      "metadata": {
        "colab": {
          "base_uri": "https://localhost:8080/"
        },
        "id": "l-CZYGNmi-ZZ",
        "outputId": "37cb5bcd-4c39-4931-b95d-73c8f6df9865"
      },
      "source": [
        "arb1 = BinarySearchTree()\n",
        "arb1.insert(60)\n",
        "arb1.insert(30)\n",
        "arb1.insert(15)\n",
        "arb1.insert(13)\n",
        "arb1.insert(40)\n",
        "arb1.insert(41)\n",
        "arb1.insert(42)\n",
        "arb1.transversal(\"posorden\")\n",
        "arb1.transversal(\"preorden\")\n",
        "arb1.transversal(\"inorden\")\n",
        "print(arb1.search(110))\n",
        "print(arb1.search(15))\n",
        "res = arb1.search(30)\n",
        "print(res.data)\n",
        "print(res.left.data)\n",
        "print(res.rigth.data)\n",
        "print(\"------------COMPROBACIONES CON REMOVE-----------\")\n",
        "arb1.remove(15)\n",
        "arb1.transversal(\"posorden\")\n",
        "\n"
      ],
      "execution_count": 166,
      "outputs": [
        {
          "output_type": "stream",
          "name": "stdout",
          "text": [
            "13 , 15 , 42 , 41 , 40 , 30 , 60 , \n",
            "60 , 30 , 15 , 13 , 40 , 41 , 42 , \n",
            "13 , 15 , 30 , 40 , 41 , 42 , 60 , \n",
            "El dato no existe en el árbol\n",
            "None\n",
            "Encontrado 15\n",
            "<__main__.BinaryNode object at 0x7f4ae9f6ea50>\n",
            "Encontrado 30\n",
            "30\n",
            "15\n",
            "40\n",
            "------------COMPROBACIONES CON REMOVE-----------\n",
            "13 , 15 , 42 , 41 , 40 , 30 , 60 , \n"
          ]
        }
      ]
    },
    {
      "cell_type": "code",
      "metadata": {
        "colab": {
          "base_uri": "https://localhost:8080/"
        },
        "id": "qOM6VMXZPs77",
        "outputId": "8bf94130-7d47-4b9f-bdb8-77ec284ded50"
      },
      "source": [
        "arb2 = BinarySearchTree()\n",
        "arb2.insert(8)\n",
        "arb2.insert(5)\n",
        "arb2.insert(1)\n",
        "arb2.insert(4)\n",
        "arb2.insert(6)\n",
        "arb2.insert(20)\n",
        "arb2.insert(12)\n",
        "arb2.insert(23)\n",
        "arb2.transversal(\"preorden\")\n",
        "print(arb2.search(22))\n",
        "print(arb2.search(6))\n"
      ],
      "execution_count": 149,
      "outputs": [
        {
          "output_type": "stream",
          "name": "stdout",
          "text": [
            "8 , 5 , 1 , 4 , 6 , 20 , 12 , 23 , \n",
            "El dato no existe en el árbol\n",
            "None\n",
            "Encontrado 6\n",
            "<__main__.BinaryNode object at 0x7f4aea027d10>\n"
          ]
        }
      ]
    }
  ]
}