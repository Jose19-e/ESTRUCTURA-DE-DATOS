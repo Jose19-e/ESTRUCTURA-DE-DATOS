{
  "nbformat": 4,
  "nbformat_minor": 0,
  "metadata": {
    "colab": {
      "name": "ColasADT_1358.ipynb",
      "provenance": [],
      "authorship_tag": "ABX9TyO9TRY8hiQrO934SStfzKzw",
      "include_colab_link": true
    },
    "kernelspec": {
      "name": "python3",
      "display_name": "Python 3"
    },
    "language_info": {
      "name": "python"
    }
  },
  "cells": [
    {
      "cell_type": "markdown",
      "metadata": {
        "id": "view-in-github",
        "colab_type": "text"
      },
      "source": [
        "<a href=\"https://colab.research.google.com/github/Jose19-e/ESTRUCTURA-DE-DATOS/blob/master/ColasADT_1358.ipynb\" target=\"_parent\"><img src=\"https://colab.research.google.com/assets/colab-badge.svg\" alt=\"Open In Colab\"/></a>"
      ]
    },
    {
      "cell_type": "code",
      "metadata": {
        "id": "fwVRv3cbsmZB"
      },
      "source": [
        "class QueueADT:\n",
        "  def __init__( self ):\n",
        "    self.__data = []\n",
        "\n",
        "  def is_empty( self ):\n",
        "    return len(self.__data) == 0\n",
        "\n",
        "  def length( self ):\n",
        "    return len(self.__data)   \n",
        "\n",
        "  def enqueue(self, elem):\n",
        "    self.__data.append(elem)\n",
        "\n",
        "  def dequeue(self):\n",
        "    if not self.is_empty():\n",
        "      return self.__data.pop(0)\n",
        "\n",
        "  def to_string(self):\n",
        "    for elem in self.__data:\n",
        "      print(f\"|{elem}| <----\", end = \" \")\n",
        "    print(\" \")           \n"
      ],
      "execution_count": null,
      "outputs": []
    },
    {
      "cell_type": "code",
      "metadata": {
        "colab": {
          "base_uri": "https://localhost:8080/"
        },
        "id": "DIV5nq9GsxoC",
        "outputId": "b807e45f-c1f8-4898-d05b-17a07acece44"
      },
      "source": [
        "cola = QueueADT()\n",
        "print(\"Está vacio?\", cola.is_empty())\n",
        "print(\"Número de elementos\", cola.length())\n",
        "cola.enqueue(10)\n",
        "cola.to_string()\n",
        "cola.enqueue(20)\n",
        "cola.enqueue(30)\n",
        "cola.enqueue(40)\n",
        "cola.to_string()\n",
        "siguiente = cola.dequeue()\n",
        "print(siguiente)\n",
        "cola.to_string()"
      ],
      "execution_count": null,
      "outputs": [
        {
          "output_type": "stream",
          "name": "stdout",
          "text": [
            "Está vacio? True\n",
            "Número de elementos 0\n",
            "|10| <----  \n",
            "|10| <---- |20| <---- |30| <---- |40| <----  \n",
            "10\n",
            "|20| <---- |30| <---- |40| <----  \n"
          ]
        }
      ]
    },
    {
      "cell_type": "code",
      "metadata": {
        "id": "AQoLF1Ig-grJ"
      },
      "source": [
        "class ColaPrioridadAcotada:\n",
        "  def __init__(self, niveles):\n",
        "    self.__data = [QueueADT() for x in range(niveles) ]\n",
        "    self.length = 0\n",
        "\n",
        "  def is_empty(self):\n",
        "    return self.length == 0\n",
        "\n",
        "  def length(self):\n",
        "    return self.length()     \n",
        "\n",
        "  def enqueue( self , prioridad , elem ):\n",
        "    if prioridad >= 0 and prioridad < len(self.__data):\n",
        "      self.__data[prioridad].enqueue(elem)\n",
        "      self.length += 1\n",
        "\n",
        "  def dequeue(self):\n",
        "    for nivel in self.__data:\n",
        "      if not nivel.is_empty():\n",
        "        self.length -= 1\n",
        "        return nivel.dequeue()    \n",
        "\n",
        "  def to_string(self):\n",
        "    for p in range(len(self.__data)):\n",
        "      print(f\"prioridad { p } = \", end=\"\")  \n",
        "      self.__data[p].to_string()  "
      ],
      "execution_count": null,
      "outputs": []
    },
    {
      "cell_type": "code",
      "metadata": {
        "colab": {
          "base_uri": "https://localhost:8080/"
        },
        "id": "k7N3LL2bCK_k",
        "outputId": "3d5e6280-dfca-4ee5-b908-454122951089"
      },
      "source": [
        "cpa = ColaPrioridadAcotada(7)\n",
        "cpa.enqueue(4,\"A\")\n",
        "cpa.enqueue(2,\"Z\")\n",
        "cpa.enqueue(4,\"N\")\n",
        "cpa.enqueue(1,\"P\")\n",
        "cpa.to_string()\n",
        "print(\"__________________________\")\n",
        "sig = cpa.dequeue()\n",
        "cpa.to_string()\n"
      ],
      "execution_count": null,
      "outputs": [
        {
          "output_type": "stream",
          "name": "stdout",
          "text": [
            "prioridad 0 =  \n",
            "prioridad 1 = |P| <----  \n",
            "prioridad 2 = |Z| <----  \n",
            "prioridad 3 =  \n",
            "prioridad 4 = |A| <---- |N| <----  \n",
            "prioridad 5 =  \n",
            "prioridad 6 =  \n",
            "__________________________\n",
            "prioridad 0 =  \n",
            "prioridad 1 =  \n",
            "prioridad 2 = |Z| <----  \n",
            "prioridad 3 =  \n",
            "prioridad 4 = |A| <---- |N| <----  \n",
            "prioridad 5 =  \n",
            "prioridad 6 =  \n"
          ]
        }
      ]
    }
  ]
}